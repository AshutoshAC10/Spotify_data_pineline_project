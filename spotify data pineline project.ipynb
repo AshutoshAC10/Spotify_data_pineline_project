{
 "cells": [
  {
   "cell_type": "code",
   "execution_count": 3,
   "id": "2408f54e-08c9-4e7a-8d98-f3ba76dabf8b",
   "metadata": {},
   "outputs": [
    {
     "name": "stdout",
     "output_type": "stream",
     "text": [
      "Requirement already satisfied: spotipy in c:\\users\\ashutosh chavan\\appdata\\local\\programs\\python\\python313\\lib\\site-packages (2.25.0)\n",
      "Requirement already satisfied: redis>=3.5.3 in c:\\users\\ashutosh chavan\\appdata\\local\\programs\\python\\python313\\lib\\site-packages (from spotipy) (5.2.1)\n",
      "Requirement already satisfied: requests>=2.25.0 in c:\\users\\ashutosh chavan\\appdata\\local\\programs\\python\\python313\\lib\\site-packages (from spotipy) (2.32.3)\n",
      "Requirement already satisfied: urllib3>=1.26.0 in c:\\users\\ashutosh chavan\\appdata\\local\\programs\\python\\python313\\lib\\site-packages (from spotipy) (2.3.0)\n",
      "Requirement already satisfied: charset-normalizer<4,>=2 in c:\\users\\ashutosh chavan\\appdata\\local\\programs\\python\\python313\\lib\\site-packages (from requests>=2.25.0->spotipy) (3.4.1)\n",
      "Requirement already satisfied: idna<4,>=2.5 in c:\\users\\ashutosh chavan\\appdata\\local\\programs\\python\\python313\\lib\\site-packages (from requests>=2.25.0->spotipy) (3.10)\n",
      "Requirement already satisfied: certifi>=2017.4.17 in c:\\users\\ashutosh chavan\\appdata\\local\\programs\\python\\python313\\lib\\site-packages (from requests>=2.25.0->spotipy) (2025.1.31)\n",
      "Note: you may need to restart the kernel to use updated packages.\n"
     ]
    }
   ],
   "source": [
    "pip install --upgrade spotipy"
   ]
  },
  {
   "cell_type": "code",
   "execution_count": 49,
   "id": "06b50335-4ace-4d07-bc24-773e66df372d",
   "metadata": {},
   "outputs": [
    {
     "name": "stdout",
     "output_type": "stream",
     "text": [
      "Collecting pandas\n",
      "  Downloading pandas-2.2.3-cp313-cp313-win_amd64.whl.metadata (19 kB)\n",
      "Collecting numpy>=1.26.0 (from pandas)\n",
      "  Downloading numpy-2.2.2-cp313-cp313-win_amd64.whl.metadata (60 kB)\n",
      "Requirement already satisfied: python-dateutil>=2.8.2 in c:\\users\\ashutosh chavan\\appdata\\local\\programs\\python\\python313\\lib\\site-packages (from pandas) (2.9.0.post0)\n",
      "Collecting pytz>=2020.1 (from pandas)\n",
      "  Downloading pytz-2025.1-py2.py3-none-any.whl.metadata (22 kB)\n",
      "Collecting tzdata>=2022.7 (from pandas)\n",
      "  Downloading tzdata-2025.1-py2.py3-none-any.whl.metadata (1.4 kB)\n",
      "Requirement already satisfied: six>=1.5 in c:\\users\\ashutosh chavan\\appdata\\local\\programs\\python\\python313\\lib\\site-packages (from python-dateutil>=2.8.2->pandas) (1.17.0)\n",
      "Downloading pandas-2.2.3-cp313-cp313-win_amd64.whl (11.5 MB)\n",
      "   ---------------------------------------- 0.0/11.5 MB ? eta -:--:--\n",
      "   - -------------------------------------- 0.5/11.5 MB 2.7 MB/s eta 0:00:05\n",
      "   --- ------------------------------------ 1.0/11.5 MB 2.8 MB/s eta 0:00:04\n",
      "   ---- ----------------------------------- 1.3/11.5 MB 2.9 MB/s eta 0:00:04\n",
      "   ------ --------------------------------- 1.8/11.5 MB 2.1 MB/s eta 0:00:05\n",
      "   ------- -------------------------------- 2.1/11.5 MB 2.0 MB/s eta 0:00:05\n",
      "   --------- ------------------------------ 2.6/11.5 MB 2.0 MB/s eta 0:00:05\n",
      "   ---------- ----------------------------- 3.1/11.5 MB 2.1 MB/s eta 0:00:04\n",
      "   ----------- ---------------------------- 3.4/11.5 MB 2.1 MB/s eta 0:00:04\n",
      "   ------------- -------------------------- 3.9/11.5 MB 2.1 MB/s eta 0:00:04\n",
      "   --------------- ------------------------ 4.5/11.5 MB 2.1 MB/s eta 0:00:04\n",
      "   ------------------ --------------------- 5.2/11.5 MB 2.2 MB/s eta 0:00:03\n",
      "   -------------------- ------------------- 5.8/11.5 MB 2.3 MB/s eta 0:00:03\n",
      "   --------------------- ------------------ 6.3/11.5 MB 2.3 MB/s eta 0:00:03\n",
      "   ----------------------- ---------------- 6.8/11.5 MB 2.3 MB/s eta 0:00:03\n",
      "   ------------------------- -------------- 7.3/11.5 MB 2.3 MB/s eta 0:00:02\n",
      "   --------------------------- ------------ 7.9/11.5 MB 2.3 MB/s eta 0:00:02\n",
      "   ------------------------------- -------- 8.9/11.5 MB 2.5 MB/s eta 0:00:02\n",
      "   --------------------------------- ------ 9.7/11.5 MB 2.5 MB/s eta 0:00:01\n",
      "   ------------------------------------ --- 10.5/11.5 MB 2.6 MB/s eta 0:00:01\n",
      "   ---------------------------------------  11.3/11.5 MB 2.7 MB/s eta 0:00:01\n",
      "   ---------------------------------------- 11.5/11.5 MB 2.6 MB/s eta 0:00:00\n",
      "Downloading numpy-2.2.2-cp313-cp313-win_amd64.whl (12.6 MB)\n",
      "   ---------------------------------------- 0.0/12.6 MB ? eta -:--:--\n",
      "   -- ------------------------------------- 0.8/12.6 MB 4.3 MB/s eta 0:00:03\n",
      "   ---- ----------------------------------- 1.6/12.6 MB 4.1 MB/s eta 0:00:03\n",
      "   --------- ------------------------------ 2.9/12.6 MB 4.6 MB/s eta 0:00:03\n",
      "   ----------- ---------------------------- 3.7/12.6 MB 4.6 MB/s eta 0:00:02\n",
      "   -------------- ------------------------- 4.7/12.6 MB 4.6 MB/s eta 0:00:02\n",
      "   ----------------- ---------------------- 5.5/12.6 MB 4.4 MB/s eta 0:00:02\n",
      "   -------------------- ------------------- 6.6/12.6 MB 4.4 MB/s eta 0:00:02\n",
      "   ------------------------ --------------- 7.6/12.6 MB 4.5 MB/s eta 0:00:02\n",
      "   -------------------------- ------------- 8.4/12.6 MB 4.5 MB/s eta 0:00:01\n",
      "   ----------------------------- ---------- 9.2/12.6 MB 4.4 MB/s eta 0:00:01\n",
      "   ------------------------------- -------- 10.0/12.6 MB 4.4 MB/s eta 0:00:01\n",
      "   ---------------------------------- ----- 11.0/12.6 MB 4.4 MB/s eta 0:00:01\n",
      "   ------------------------------------- -- 11.8/12.6 MB 4.3 MB/s eta 0:00:01\n",
      "   ---------------------------------------- 12.6/12.6 MB 4.2 MB/s eta 0:00:00\n",
      "Downloading pytz-2025.1-py2.py3-none-any.whl (507 kB)\n",
      "Downloading tzdata-2025.1-py2.py3-none-any.whl (346 kB)\n",
      "Installing collected packages: pytz, tzdata, numpy, pandas\n",
      "Successfully installed numpy-2.2.2 pandas-2.2.3 pytz-2025.1 tzdata-2025.1\n"
     ]
    }
   ],
   "source": [
    "!pip install pandas"
   ]
  },
  {
   "cell_type": "code",
   "execution_count": 50,
   "id": "7d827088-b6f0-4653-8220-2587ee536bd3",
   "metadata": {},
   "outputs": [],
   "source": [
    "import spotipy\n",
    "from spotipy.oauth2 import SpotifyClientCredentials\n",
    "import pandas as pd"
   ]
  },
  {
   "cell_type": "code",
   "execution_count": 5,
   "id": "5eeafd72-25bb-4196-8b10-8e5e620bef27",
   "metadata": {},
   "outputs": [],
   "source": [
    "client_credentials_manager = SpotifyClientCredentials(client_id=\"bc1c93451de642c0bb75abd9b076a01e\",client_secret=\"1fd83264384243e696fab39200abdabf\")"
   ]
  },
  {
   "cell_type": "code",
   "execution_count": 6,
   "id": "b860821b-2eff-4775-8038-bf64ac91ea0f",
   "metadata": {},
   "outputs": [],
   "source": [
    "sp = spotipy.Spotify(client_credentials_manager = client_credentials_manager)"
   ]
  },
  {
   "cell_type": "code",
   "execution_count": 10,
   "id": "c90a6e17-2e2e-48b2-b069-402336dda789",
   "metadata": {},
   "outputs": [],
   "source": [
    "playlist_link = \"https://open.spotify.com/playlist/5P4N7AOhfb2K9ybp7qfqI2\""
   ]
  },
  {
   "cell_type": "code",
   "execution_count": 11,
   "id": "09a97d8d-ee13-4cce-beda-327732b3399d",
   "metadata": {},
   "outputs": [],
   "source": [
    "playlist_URI = playlist_link.split(\"/\")[-1].split(\"?\")[0]"
   ]
  },
  {
   "cell_type": "code",
   "execution_count": 13,
   "id": "aaee533f-58f9-4bd6-bbfb-482190b1b076",
   "metadata": {},
   "outputs": [],
   "source": [
    "data = sp.playlist_tracks(playlist_URI)"
   ]
  },
  {
   "cell_type": "code",
   "execution_count": 31,
   "id": "4dc8165b-8c8b-43cd-af31-d9a0b9b9694e",
   "metadata": {},
   "outputs": [
    {
     "data": {
      "text/plain": [
       "'10FLjwfpbxLmW8c25Xyc2N'"
      ]
     },
     "execution_count": 31,
     "metadata": {},
     "output_type": "execute_result"
    }
   ],
   "source": [
    "data['items'][0]['track']['album']['id']"
   ]
  },
  {
   "cell_type": "code",
   "execution_count": 19,
   "id": "09df96df-f7ad-409b-8587-87fdf4cdebe6",
   "metadata": {},
   "outputs": [
    {
     "data": {
      "text/plain": [
       "'Die With A Smile'"
      ]
     },
     "execution_count": 19,
     "metadata": {},
     "output_type": "execute_result"
    }
   ],
   "source": [
    "data['items'][0]['track']['album']['name']"
   ]
  },
  {
   "cell_type": "code",
   "execution_count": 23,
   "id": "13d6af59-48b5-4ebe-b03a-6d67973c8b44",
   "metadata": {},
   "outputs": [
    {
     "data": {
      "text/plain": [
       "'2024-08-16'"
      ]
     },
     "execution_count": 23,
     "metadata": {},
     "output_type": "execute_result"
    }
   ],
   "source": [
    "data['items'][0]['track']['album']['release_date']"
   ]
  },
  {
   "cell_type": "code",
   "execution_count": 28,
   "id": "18b3d9b8-1293-4c82-a1fe-1447afe228bd",
   "metadata": {},
   "outputs": [
    {
     "data": {
      "text/plain": [
       "1"
      ]
     },
     "execution_count": 28,
     "metadata": {},
     "output_type": "execute_result"
    }
   ],
   "source": [
    "data['items'][0]['track']['album']['total_tracks']"
   ]
  },
  {
   "cell_type": "code",
   "execution_count": 30,
   "id": "25ed377c-e607-4488-acda-21125a90ecf4",
   "metadata": {},
   "outputs": [
    {
     "data": {
      "text/plain": [
       "'https://open.spotify.com/album/10FLjwfpbxLmW8c25Xyc2N'"
      ]
     },
     "execution_count": 30,
     "metadata": {},
     "output_type": "execute_result"
    }
   ],
   "source": [
    "data['items'][0]['track']['album']['external_urls']['spotify']"
   ]
  },
  {
   "cell_type": "code",
   "execution_count": 37,
   "id": "a907f536-16db-4e8a-889c-9dcc9b87f021",
   "metadata": {},
   "outputs": [
    {
     "name": "stdout",
     "output_type": "stream",
     "text": [
      "{'album_id': '10FLjwfpbxLmW8c25Xyc2N', 'name': 'Die With A Smile', 'release_date': '2024-08-16', 'total_tracks': 1, 'url': 'https://open.spotify.com/album/10FLjwfpbxLmW8c25Xyc2N'}\n",
      "{'album_id': '29aSKB1qPEbN0Qf9OPSQpw', 'name': 'Beautiful Things', 'release_date': '2024-01-18', 'total_tracks': 1, 'url': 'https://open.spotify.com/album/29aSKB1qPEbN0Qf9OPSQpw'}\n",
      "{'album_id': '2xOyC51tKqTQtVE0wHl2RF', 'name': 'Wake up happy 2023 | Good Morning', 'release_date': '2023-08-21', 'total_tracks': 60, 'url': 'https://open.spotify.com/album/2xOyC51tKqTQtVE0wHl2RF'}\n",
      "{'album_id': '3vLaOYCNCzngDf8QdBg2V1', 'name': 'Uptown Special', 'release_date': '2015-01-12', 'total_tracks': 11, 'url': 'https://open.spotify.com/album/3vLaOYCNCzngDf8QdBg2V1'}\n",
      "{'album_id': '5quMTd5zeI9yW5UDua8wS4', 'name': 'Espresso', 'release_date': '2024-04-12', 'total_tracks': 1, 'url': 'https://open.spotify.com/album/5quMTd5zeI9yW5UDua8wS4'}\n",
      "{'album_id': '7I0tjwFtxUwBC1vgyeMAax', 'name': 'Flowers', 'release_date': '2023-01-13', 'total_tracks': 1, 'url': 'https://open.spotify.com/album/7I0tjwFtxUwBC1vgyeMAax'}\n",
      "{'album_id': '0S0KGZnfBGSIssfF54WSJh', 'name': 'WHEN WE ALL FALL ASLEEP, WHERE DO WE GO?', 'release_date': '2019-03-29', 'total_tracks': 14, 'url': 'https://open.spotify.com/album/0S0KGZnfBGSIssfF54WSJh'}\n",
      "{'album_id': '5GkFaBhNEGr1GD84DJOGAy', 'name': 'Massive Hits', 'release_date': '2021-01-29', 'total_tracks': 30, 'url': 'https://open.spotify.com/album/5GkFaBhNEGr1GD84DJOGAy'}\n",
      "{'album_id': '55bbXORm6ZrVq52zfZnxBf', 'name': 'Encore', 'release_date': '2016-08-05', 'total_tracks': 14, 'url': 'https://open.spotify.com/album/55bbXORm6ZrVq52zfZnxBf'}\n",
      "{'album_id': '4Qhx2H58MExMrgvFoNCBJK', 'name': 'Acoustic Essentials', 'release_date': '2021-04-23', 'total_tracks': 33, 'url': 'https://open.spotify.com/album/4Qhx2H58MExMrgvFoNCBJK'}\n",
      "{'album_id': '4gCNyS7pidfK3rKWhB3JOY', 'name': 'FOUR (Deluxe)', 'release_date': '2014-11-17', 'total_tracks': 16, 'url': 'https://open.spotify.com/album/4gCNyS7pidfK3rKWhB3JOY'}\n",
      "{'album_id': '5MQBzs5YlZlE28mD9yUItn', 'name': 'PRISM (Deluxe)', 'release_date': '2013-10-18', 'total_tracks': 16, 'url': 'https://open.spotify.com/album/5MQBzs5YlZlE28mD9yUItn'}\n",
      "{'album_id': '4Fsw5eeumJ11hfDW7FZgAN', 'name': 'Kickass Tracks Of All Time Vol 15', 'release_date': '2023-05-06', 'total_tracks': 27, 'url': 'https://open.spotify.com/album/4Fsw5eeumJ11hfDW7FZgAN'}\n",
      "{'album_id': '7xqObf4lCoL3Gw0oPsA1Vb', 'name': '100% Éxitos Infantiles', 'release_date': '2023-08-18', 'total_tracks': 40, 'url': 'https://open.spotify.com/album/7xqObf4lCoL3Gw0oPsA1Vb'}\n",
      "{'album_id': '6qYGNkUkTjjtK6AeqazTUk', 'name': 'Ring Ring', 'release_date': '2024-04-09', 'total_tracks': 1, 'url': 'https://open.spotify.com/album/6qYGNkUkTjjtK6AeqazTUk'}\n",
      "{'album_id': '1iGIqDBXm5HpTqHCvdc4QP', 'name': 'The Twilight Saga: Breaking Dawn - Part 1 (Original Motion Picture Soundtrack)', 'release_date': '2011-11-04', 'total_tracks': 19, 'url': 'https://open.spotify.com/album/1iGIqDBXm5HpTqHCvdc4QP'}\n",
      "{'album_id': '3T4tUhGYeRNVUGevb0wThu', 'name': '÷ (Deluxe)', 'release_date': '2017-03-03', 'total_tracks': 16, 'url': 'https://open.spotify.com/album/3T4tUhGYeRNVUGevb0wThu'}\n",
      "{'album_id': '7aJuG4TFXa2hmE4z1yxc3n', 'name': 'HIT ME HARD AND SOFT', 'release_date': '2024-05-17', 'total_tracks': 10, 'url': 'https://open.spotify.com/album/7aJuG4TFXa2hmE4z1yxc3n'}\n",
      "{'album_id': '3T4tUhGYeRNVUGevb0wThu', 'name': '÷ (Deluxe)', 'release_date': '2017-03-03', 'total_tracks': 16, 'url': 'https://open.spotify.com/album/3T4tUhGYeRNVUGevb0wThu'}\n",
      "{'album_id': '1yGbNOtRIgdIiGHOEBaZWf', 'name': '1989 (Deluxe)', 'release_date': '2014-01-01', 'total_tracks': 19, 'url': 'https://open.spotify.com/album/1yGbNOtRIgdIiGHOEBaZWf'}\n",
      "{'album_id': '4AEZ921zN1LW6nASbsybdw', 'name': 'Workout 2024', 'release_date': '2023-11-08', 'total_tracks': 27, 'url': 'https://open.spotify.com/album/4AEZ921zN1LW6nASbsybdw'}\n",
      "{'album_id': '5bBaoign62r1i7OV8w7mi9', 'name': 'Please Please Please', 'release_date': '2024-06-06', 'total_tracks': 2, 'url': 'https://open.spotify.com/album/5bBaoign62r1i7OV8w7mi9'}\n",
      "{'album_id': '71PfP4E9roOXAudea1aPGw', 'name': 'eternal sunshine', 'release_date': '2024-03-08', 'total_tracks': 13, 'url': 'https://open.spotify.com/album/71PfP4E9roOXAudea1aPGw'}\n",
      "{'album_id': '1qwlxZTNLe1jq3b0iidlue', 'name': 'The Fame', 'release_date': '2008-01-01', 'total_tracks': 15, 'url': 'https://open.spotify.com/album/1qwlxZTNLe1jq3b0iidlue'}\n",
      "{'album_id': '6NcI39WPu4kY6Tul11nhSv', 'name': 'Daylight', 'release_date': '2023-04-14', 'total_tracks': 1, 'url': 'https://open.spotify.com/album/6NcI39WPu4kY6Tul11nhSv'}\n",
      "{'album_id': '2Q9oTK48eb85waX1fFJsvj', 'name': 'The Truth About Love', 'release_date': '2012-09-18', 'total_tracks': 17, 'url': 'https://open.spotify.com/album/2Q9oTK48eb85waX1fFJsvj'}\n",
      "{'album_id': '4B4Elma4nNDUyl6D5PvQkj', 'name': \"Short n' Sweet\", 'release_date': '2024-08-23', 'total_tracks': 12, 'url': 'https://open.spotify.com/album/4B4Elma4nNDUyl6D5PvQkj'}\n",
      "{'album_id': '6oUTqYPV88CVjpv2H4Noo9', 'name': \"Valentine's Day - R&B Love\", 'release_date': '2018-02-02', 'total_tracks': 30, 'url': 'https://open.spotify.com/album/6oUTqYPV88CVjpv2H4Noo9'}\n",
      "{'album_id': '5hMd4vAfSUT1cbYCnRUako', 'name': 'No Strings Attached', 'release_date': '2000-03-21', 'total_tracks': 16, 'url': 'https://open.spotify.com/album/5hMd4vAfSUT1cbYCnRUako'}\n",
      "{'album_id': '123tKm5l1imrpuhWQZghWM', 'name': 'Love Again', 'release_date': '2024-06-28', 'total_tracks': 1, 'url': 'https://open.spotify.com/album/123tKm5l1imrpuhWQZghWM'}\n",
      "{'album_id': '6MUfl6Jno4naaweZq91qJz', 'name': 'Summer Songs', 'release_date': '2022-05-20', 'total_tracks': 51, 'url': 'https://open.spotify.com/album/6MUfl6Jno4naaweZq91qJz'}\n",
      "{'album_id': '1FZKIm3JVDCxTchXDo5jOV', 'name': 'Harry Styles', 'release_date': '2017-05-12', 'total_tracks': 10, 'url': 'https://open.spotify.com/album/1FZKIm3JVDCxTchXDo5jOV'}\n",
      "{'album_id': '6T6DzyYyZ17vNF7hdrpRTm', 'name': '2014 Best of by uDiscover', 'release_date': '2023-08-21', 'total_tracks': 70, 'url': 'https://open.spotify.com/album/6T6DzyYyZ17vNF7hdrpRTm'}\n",
      "{'album_id': '4z2PuKqBlR2XwYLNccbZak', 'name': 'Icarus Falls', 'release_date': '2018-12-14', 'total_tracks': 29, 'url': 'https://open.spotify.com/album/4z2PuKqBlR2XwYLNccbZak'}\n",
      "{'album_id': '5duyQokC4FMcWPYTV9Gpf9', 'name': '21', 'release_date': '2011-01-24', 'total_tracks': 11, 'url': 'https://open.spotify.com/album/5duyQokC4FMcWPYTV9Gpf9'}\n",
      "{'album_id': '3SMV4ooENmCNDQHXa23gRa', 'name': 'You Are The Reason (Duet Version)', 'release_date': '2018-02-09', 'total_tracks': 1, 'url': 'https://open.spotify.com/album/3SMV4ooENmCNDQHXa23gRa'}\n",
      "{'album_id': '7phB3D6PSTjaBWOONvG5D3', 'name': 'Workout 2021', 'release_date': '2021-01-22', 'total_tracks': 53, 'url': 'https://open.spotify.com/album/7phB3D6PSTjaBWOONvG5D3'}\n",
      "{'album_id': '1yGbNOtRIgdIiGHOEBaZWf', 'name': '1989 (Deluxe)', 'release_date': '2014-01-01', 'total_tracks': 19, 'url': 'https://open.spotify.com/album/1yGbNOtRIgdIiGHOEBaZWf'}\n",
      "{'album_id': '0zzrCTzvL4ZmR42xF46Afm', 'name': 'Without Me', 'release_date': '2018-10-04', 'total_tracks': 1, 'url': 'https://open.spotify.com/album/0zzrCTzvL4ZmR42xF46Afm'}\n",
      "{'album_id': '2sRnJq6dfXdqhIflBk0ve1', 'name': 'All the Little Lights', 'release_date': '2012-06-29', 'total_tracks': 16, 'url': 'https://open.spotify.com/album/2sRnJq6dfXdqhIflBk0ve1'}\n",
      "{'album_id': '4sLtOBOzn4s3GDUv3c5oJD', 'name': 'A Star Is Born Soundtrack', 'release_date': '2018-10-05', 'total_tracks': 34, 'url': 'https://open.spotify.com/album/4sLtOBOzn4s3GDUv3c5oJD'}\n",
      "{'album_id': '794LooHwpYbiQAheGZHplB', 'name': '2000-talets Hits', 'release_date': '2021-05-12', 'total_tracks': 80, 'url': 'https://open.spotify.com/album/794LooHwpYbiQAheGZHplB'}\n",
      "{'album_id': '3vA7wKOKZOHUdD4WEOEfvi', 'name': 'Maldivas', 'release_date': '2023-06-16', 'total_tracks': 35, 'url': 'https://open.spotify.com/album/3vA7wKOKZOHUdD4WEOEfvi'}\n",
      "{'album_id': '6E0p38TjcK490itZ1Ns7bD', 'name': 'Nine Track Mind', 'release_date': '2015-11-05', 'total_tracks': 14, 'url': 'https://open.spotify.com/album/6E0p38TjcK490itZ1Ns7bD'}\n",
      "{'album_id': '6rJ45Eh2uZLwONqzW41kR1', 'name': 'Ladida', 'release_date': '2024-04-17', 'total_tracks': 1, 'url': 'https://open.spotify.com/album/6rJ45Eh2uZLwONqzW41kR1'}\n",
      "{'album_id': '08jWgM4vSkTose4blKBWov', 'name': 'In The Lonely Hour', 'release_date': '2014-05-26', 'total_tracks': 10, 'url': 'https://open.spotify.com/album/08jWgM4vSkTose4blKBWov'}\n",
      "{'album_id': '0lcfkucXPJH7zGSHbUXUjZ', 'name': 'drunk text', 'release_date': '2023-01-26', 'total_tracks': 1, 'url': 'https://open.spotify.com/album/0lcfkucXPJH7zGSHbUXUjZ'}\n",
      "{'album_id': '3ROfBX6lJLnCmaw1NrP5K9', 'name': 'I AM...SASHA FIERCE - Platinum Edition', 'release_date': '2008', 'total_tracks': 20, 'url': 'https://open.spotify.com/album/3ROfBX6lJLnCmaw1NrP5K9'}\n",
      "{'album_id': '6oSxSPOg7Kuitjt2zwP7sU', 'name': '2002', 'release_date': '2018-04-19', 'total_tracks': 1, 'url': 'https://open.spotify.com/album/6oSxSPOg7Kuitjt2zwP7sU'}\n",
      "{'album_id': '5duyQokC4FMcWPYTV9Gpf9', 'name': '21', 'release_date': '2011-01-24', 'total_tracks': 11, 'url': 'https://open.spotify.com/album/5duyQokC4FMcWPYTV9Gpf9'}\n",
      "{'album_id': '1QRP5lutJodPixU2EWfnD7', 'name': 'Dangerous Woman', 'release_date': '2016-04-01', 'total_tracks': 15, 'url': 'https://open.spotify.com/album/1QRP5lutJodPixU2EWfnD7'}\n",
      "{'album_id': '7tl8VkZBE0bSMaMcqscnCk', 'name': 'Roar', 'release_date': '2013-01-01', 'total_tracks': 1, 'url': 'https://open.spotify.com/album/7tl8VkZBE0bSMaMcqscnCk'}\n",
      "{'album_id': '4yP0hdKOZPNshxUOjY0cZj', 'name': 'After Hours', 'release_date': '2020-03-20', 'total_tracks': 14, 'url': 'https://open.spotify.com/album/4yP0hdKOZPNshxUOjY0cZj'}\n",
      "{'album_id': '7eZO3WCzvtYIbXI0ZkefzS', 'name': 'Skyfall', 'release_date': '2012-10-05', 'total_tracks': 1, 'url': 'https://open.spotify.com/album/7eZO3WCzvtYIbXI0ZkefzS'}\n",
      "{'album_id': '7gErZg7XRuXGKutHCxLALG', 'name': 'TikTok Pop Hits 2022 | 2023', 'release_date': '2022-12-16', 'total_tracks': 64, 'url': 'https://open.spotify.com/album/7gErZg7XRuXGKutHCxLALG'}\n",
      "{'album_id': '4eddbruVtOqw8khwxSH6H2', 'name': 'Unapologetic (Deluxe)', 'release_date': '2012-12-11', 'total_tracks': 17, 'url': 'https://open.spotify.com/album/4eddbruVtOqw8khwxSH6H2'}\n",
      "{'album_id': '24L75CzM3lqg3yAm4oTIVR', 'name': '7/27 (Deluxe)', 'release_date': '2016-05-27', 'total_tracks': 13, 'url': 'https://open.spotify.com/album/24L75CzM3lqg3yAm4oTIVR'}\n",
      "{'album_id': '0Gf1yE895FKK4YWVRuAeg8', 'name': 'Long Way Down (Deluxe)', 'release_date': '2013-06-24', 'total_tracks': 15, 'url': 'https://open.spotify.com/album/0Gf1yE895FKK4YWVRuAeg8'}\n",
      "{'album_id': '7ctc1jmOSz2FzVGctjFGTh', 'name': 'The Townn Tá Chegando', 'release_date': '2023-08-25', 'total_tracks': 22, 'url': 'https://open.spotify.com/album/7ctc1jmOSz2FzVGctjFGTh'}\n",
      "{'album_id': '64RFPmwfE8SEj9QxVgzYCG', 'name': 'Bad Booty', 'release_date': '2024-03-15', 'total_tracks': 1, 'url': 'https://open.spotify.com/album/64RFPmwfE8SEj9QxVgzYCG'}\n",
      "{'album_id': '0ReJx3ifOevdUt2fXXvgDG', 'name': 'No Lie', 'release_date': '2016-11-18', 'total_tracks': 1, 'url': 'https://open.spotify.com/album/0ReJx3ifOevdUt2fXXvgDG'}\n",
      "{'album_id': '3a3AKiS0o5qVn25cloDYII', 'name': 'A Star Is Born Soundtrack', 'release_date': '2018-10-05', 'total_tracks': 34, 'url': 'https://open.spotify.com/album/3a3AKiS0o5qVn25cloDYII'}\n",
      "{'album_id': '2eV6DIPDnGl1idcjww6xyX', 'name': 'This Is Acting (Deluxe Version)', 'release_date': '2016-10-21', 'total_tracks': 19, 'url': 'https://open.spotify.com/album/2eV6DIPDnGl1idcjww6xyX'}\n",
      "{'album_id': '4Rt6psVqmhnvrZLEoHocb6', 'name': 'The Fame Monster (Explicit Version)', 'release_date': '2009-01-01', 'total_tracks': 8, 'url': 'https://open.spotify.com/album/4Rt6psVqmhnvrZLEoHocb6'}\n",
      "{'album_id': '0UN9gTNSAeekvarJ6X9600', 'name': 'Todo Ellos - Cantautores De Siempre', 'release_date': '2023-10-20', 'total_tracks': 60, 'url': 'https://open.spotify.com/album/0UN9gTNSAeekvarJ6X9600'}\n",
      "{'album_id': '1xn54DMo2qIqBuMqHtUsFd', 'name': 'x (Deluxe Edition)', 'release_date': '2014-06-21', 'total_tracks': 16, 'url': 'https://open.spotify.com/album/1xn54DMo2qIqBuMqHtUsFd'}\n",
      "{'album_id': '03D36t8ODrA8ATvoTStU9P', 'name': '7 rings', 'release_date': '2019-01-18', 'total_tracks': 1, 'url': 'https://open.spotify.com/album/03D36t8ODrA8ATvoTStU9P'}\n",
      "{'album_id': '2pqdSWeJVsXAhHFuVLzuA8', 'name': 'As It Was', 'release_date': '2022-03-31', 'total_tracks': 1, 'url': 'https://open.spotify.com/album/2pqdSWeJVsXAhHFuVLzuA8'}\n",
      "{'album_id': '4NaAKSGSxfZtSjzBSRFp35', 'name': 'Flowers Need Rain', 'release_date': '2022-08-30', 'total_tracks': 25, 'url': 'https://open.spotify.com/album/4NaAKSGSxfZtSjzBSRFp35'}\n",
      "{'album_id': '0V7TZQmJBgI81M9Z7GWxCI', 'name': 'Shock Value', 'release_date': '2007-04-02', 'total_tracks': 17, 'url': 'https://open.spotify.com/album/0V7TZQmJBgI81M9Z7GWxCI'}\n",
      "{'album_id': '5QN7mdrNquAGx37ixtQnLO', 'name': 'A New Day Has Come', 'release_date': '2002', 'total_tracks': 17, 'url': 'https://open.spotify.com/album/5QN7mdrNquAGx37ixtQnLO'}\n",
      "{'album_id': '4iW9eYGpYhIQ1p4QC05ihN', 'name': 'What Makes You Beautiful', 'release_date': '2022-08-25', 'total_tracks': 1, 'url': 'https://open.spotify.com/album/4iW9eYGpYhIQ1p4QC05ihN'}\n",
      "{'album_id': '2ZaX1FdZCwchXl1QZiD4O4', 'name': 'Señorita', 'release_date': '2019-06-21', 'total_tracks': 1, 'url': 'https://open.spotify.com/album/2ZaX1FdZCwchXl1QZiD4O4'}\n",
      "{'album_id': '5HIWDdg3g9CTOtnevKDl1z', 'name': 'i like the way you kiss me', 'release_date': '2024-03-19', 'total_tracks': 1, 'url': 'https://open.spotify.com/album/5HIWDdg3g9CTOtnevKDl1z'}\n",
      "{'album_id': '3mksnQ9H149oc2Sm6wpxsS', 'name': 'Mondays', 'release_date': '2024-10-04', 'total_tracks': 1, 'url': 'https://open.spotify.com/album/3mksnQ9H149oc2Sm6wpxsS'}\n",
      "{'album_id': '4rG0MhkU6UojACJxkMHIXB', 'name': 'Planet Pit (Deluxe Version)', 'release_date': '2011-06-17', 'total_tracks': 16, 'url': 'https://open.spotify.com/album/4rG0MhkU6UojACJxkMHIXB'}\n",
      "{'album_id': '04PEOM6kIEeq9lRp1asNP2', 'name': 'I Ain’t Worried (Music From The Motion Picture \"Top Gun: Maverick\")', 'release_date': '2022-05-13', 'total_tracks': 1, 'url': 'https://open.spotify.com/album/04PEOM6kIEeq9lRp1asNP2'}\n",
      "{'album_id': '10L9k8ngAAdelSqiqLj3dA', 'name': 'Love Songs 2021', 'release_date': '2021-01-22', 'total_tracks': 25, 'url': 'https://open.spotify.com/album/10L9k8ngAAdelSqiqLj3dA'}\n",
      "{'album_id': '0O82niJ0NpcptYRxogeEZu', 'name': 'The 20/20 Experience (Deluxe Version)', 'release_date': '2013-03-15', 'total_tracks': 12, 'url': 'https://open.spotify.com/album/0O82niJ0NpcptYRxogeEZu'}\n",
      "{'album_id': '7aJuG4TFXa2hmE4z1yxc3n', 'name': 'HIT ME HARD AND SOFT', 'release_date': '2024-05-17', 'total_tracks': 10, 'url': 'https://open.spotify.com/album/7aJuG4TFXa2hmE4z1yxc3n'}\n",
      "{'album_id': '224jZ4sUX7OhAuMwaxp86S', 'name': 'Easy On Me', 'release_date': '2021-10-14', 'total_tracks': 1, 'url': 'https://open.spotify.com/album/224jZ4sUX7OhAuMwaxp86S'}\n",
      "{'album_id': '1NAmidJlEaVgA3MpcPFYGq', 'name': 'Lover', 'release_date': '2019-08-23', 'total_tracks': 18, 'url': 'https://open.spotify.com/album/1NAmidJlEaVgA3MpcPFYGq'}\n",
      "{'album_id': '7yCXgxWLZZEAiVsISKN3BF', 'name': 'Eenie Meenie', 'release_date': '2010-03-23', 'total_tracks': 1, 'url': 'https://open.spotify.com/album/7yCXgxWLZZEAiVsISKN3BF'}\n",
      "{'album_id': '2NTw0F363GPU537jWfAPnJ', 'name': '100 Greatest Party Songs', 'release_date': '2022-12-16', 'total_tracks': 100, 'url': 'https://open.spotify.com/album/2NTw0F363GPU537jWfAPnJ'}\n",
      "{'album_id': '6SSSF9Y6MiPdQoxqBptrR2', 'name': 'Kiss', 'release_date': '2012-01-01', 'total_tracks': 17, 'url': 'https://open.spotify.com/album/6SSSF9Y6MiPdQoxqBptrR2'}\n",
      "{'album_id': '1WAjjRMfZjEXtB0lQrAw6Q', 'name': 'Good Luck, Babe!', 'release_date': '2024-04-05', 'total_tracks': 1, 'url': 'https://open.spotify.com/album/1WAjjRMfZjEXtB0lQrAw6Q'}\n",
      "{'album_id': '4QLAtpLNUsHEYrcHXmMIZZ', 'name': 'STAY (with Justin Bieber)', 'release_date': '2021-07-09', 'total_tracks': 1, 'url': 'https://open.spotify.com/album/4QLAtpLNUsHEYrcHXmMIZZ'}\n",
      "{'album_id': '2y61dhDWWdM66Z8q9Nypk2', 'name': 'Worth It (feat. Kid Ink)', 'release_date': '2015-06-21', 'total_tracks': 1, 'url': 'https://open.spotify.com/album/2y61dhDWWdM66Z8q9Nypk2'}\n",
      "{'album_id': '25JNXGr6NuKgZT3Zbb6Olg', 'name': 'Cooking with Pop', 'release_date': '2023-07-28', 'total_tracks': 72, 'url': 'https://open.spotify.com/album/25JNXGr6NuKgZT3Zbb6Olg'}\n",
      "{'album_id': '1VwGXlMhsYXWoCTtQMy8e1', 'name': 'Come With Me', 'release_date': '2023-06-15', 'total_tracks': 1, 'url': 'https://open.spotify.com/album/1VwGXlMhsYXWoCTtQMy8e1'}\n",
      "{'album_id': '1wuY8w6dlLmLx27iitbU3K', 'name': \"10's UK Hits\", 'release_date': '2021-03-19', 'total_tracks': 60, 'url': 'https://open.spotify.com/album/1wuY8w6dlLmLx27iitbU3K'}\n",
      "{'album_id': '4eNrH2m6I75lBcJOX1tCTO', 'name': 'Summer Hits 2023', 'release_date': '2023-04-14', 'total_tracks': 40, 'url': 'https://open.spotify.com/album/4eNrH2m6I75lBcJOX1tCTO'}\n",
      "{'album_id': '2VL2gWE6J6VxTb9KhPfxGM', 'name': 'Buttons (International Version)', 'release_date': '2006-01-01', 'total_tracks': 3, 'url': 'https://open.spotify.com/album/2VL2gWE6J6VxTb9KhPfxGM'}\n",
      "{'album_id': '4A0vJtV9ok7vmr9ursSKj8', 'name': 'It Will Rain', 'release_date': '2011-09-28', 'total_tracks': 1, 'url': 'https://open.spotify.com/album/4A0vJtV9ok7vmr9ursSKj8'}\n",
      "{'album_id': '4Kuyf8Tlk4a3ygshji7w2R', 'name': 'R&B Pop', 'release_date': '2023-09-01', 'total_tracks': 38, 'url': 'https://open.spotify.com/album/4Kuyf8Tlk4a3ygshji7w2R'}\n",
      "{'album_id': '5yYFrOnqG8cEciKnsxHz2r', 'name': 'Illuminate (Deluxe)', 'release_date': '2017-04-20', 'total_tracks': 16, 'url': 'https://open.spotify.com/album/5yYFrOnqG8cEciKnsxHz2r'}\n",
      "{'album_id': '0cm9LOQUBK3JUgyoRj238z', 'name': 'YOU', 'release_date': '2019-10-18', 'total_tracks': 17, 'url': 'https://open.spotify.com/album/0cm9LOQUBK3JUgyoRj238z'}\n",
      "{'album_id': '5775MPAzPqZFzmvIMhywmM', 'name': 'Say My Name (Remixes)', 'release_date': '2018-11-30', 'total_tracks': 11, 'url': 'https://open.spotify.com/album/5775MPAzPqZFzmvIMhywmM'}\n",
      "{'album_id': '5lNzygOpCmzRx4N301icBB', 'name': 'THE E.N.D. (THE ENERGY NEVER DIES) [International Version]', 'release_date': '2009-01-01', 'total_tracks': 16, 'url': 'https://open.spotify.com/album/5lNzygOpCmzRx4N301icBB'}\n",
      "{'album_id': '3UOV8XvCwMKaATRNXrYCjN', 'name': 'greedy', 'release_date': '2023-09-15', 'total_tracks': 1, 'url': 'https://open.spotify.com/album/3UOV8XvCwMKaATRNXrYCjN'}\n"
     ]
    }
   ],
   "source": [
    "album_list = []\n",
    "for row in data['items']: \n",
    "    album_id= row['track']['album']['id'] \n",
    "    album_name = row['track']['album']['name'] \n",
    "    album_release_date = row['track']['album']['release_date'] \n",
    "    album_total_tracks = row['track']['album']['total_tracks'] \n",
    "    album_url = row['track']['album']['external_urls']['spotify'] \n",
    "    album_element = {'album_id': album_id, 'name': album_name, 'release_date': album_release_date, \n",
    "                     'total_tracks': album_total_tracks, 'url': album_url} \n",
    "    print(album_element)\n",
    "    album_list.append(album_element)\n"
   ]
  },
  {
   "cell_type": "code",
   "execution_count": 38,
   "id": "2d57ea39-38c0-4c0a-b4c3-953d0ef2250d",
   "metadata": {},
   "outputs": [],
   "source": [
    "artist_list = [] \n",
    "for row in data['items']: \n",
    "    for key, value in row.items(): \n",
    "        if key == \"track\": \n",
    "            for artist in value['artists']: \n",
    "                artist_dict = {'artist_id': artist['id'], 'artist_name': artist['name'], 'external_url': artist['href']} \n",
    "                artist_list.append(artist_dict)"
   ]
  },
  {
   "cell_type": "code",
   "execution_count": 46,
   "id": "59a2691c-d3b2-47b5-b718-1ccc03565f42",
   "metadata": {},
   "outputs": [],
   "source": [
    "song_list = []\n",
    "for row in data['items']: \n",
    "    song_id = row['track']['id'] \n",
    "    song_name= row['track']['name'] \n",
    "    song_duration = row['track']['duration_ms']\n",
    "    song_url= row['track']['external_urls']['spotify'] \n",
    "    song_popularity = row['track']['popularity'] \n",
    "    song_added = row['added_at'] \n",
    "    album_id = row['track']['album']['id'] \n",
    "    artist_id = row['track']['album']['artists'][0]['id'] \n",
    "    song_element = {'song_id':song_id, 'song_name': song_name, 'duration_ms':song_duration, 'url':song_url,\n",
    "                    'popularity': song_popularity, 'song_added': song_added, 'album_id':album_id, \n",
    "                    'artist_id':artist_id \n",
    "                   } \n",
    "    song_list.append(song_element\n",
    "    "
   ]
  },
  {
   "cell_type": "code",
   "execution_count": 51,
   "id": "0986059a-b5ac-49ad-b455-b84ed027ea1c",
   "metadata": {},
   "outputs": [],
   "source": [
    "album_df = pd.DataFrame.from_dict(album_list)"
   ]
  },
  {
   "cell_type": "code",
   "execution_count": 53,
   "id": "6ed91fc1-92fc-48a5-8eee-412a5ff631a0",
   "metadata": {},
   "outputs": [
    {
     "data": {
      "text/html": [
       "<div>\n",
       "<style scoped>\n",
       "    .dataframe tbody tr th:only-of-type {\n",
       "        vertical-align: middle;\n",
       "    }\n",
       "\n",
       "    .dataframe tbody tr th {\n",
       "        vertical-align: top;\n",
       "    }\n",
       "\n",
       "    .dataframe thead th {\n",
       "        text-align: right;\n",
       "    }\n",
       "</style>\n",
       "<table border=\"1\" class=\"dataframe\">\n",
       "  <thead>\n",
       "    <tr style=\"text-align: right;\">\n",
       "      <th></th>\n",
       "      <th>album_id</th>\n",
       "      <th>name</th>\n",
       "      <th>release_date</th>\n",
       "      <th>total_tracks</th>\n",
       "      <th>url</th>\n",
       "    </tr>\n",
       "  </thead>\n",
       "  <tbody>\n",
       "    <tr>\n",
       "      <th>0</th>\n",
       "      <td>10FLjwfpbxLmW8c25Xyc2N</td>\n",
       "      <td>Die With A Smile</td>\n",
       "      <td>2024-08-16</td>\n",
       "      <td>1</td>\n",
       "      <td>https://open.spotify.com/album/10FLjwfpbxLmW8c...</td>\n",
       "    </tr>\n",
       "    <tr>\n",
       "      <th>1</th>\n",
       "      <td>29aSKB1qPEbN0Qf9OPSQpw</td>\n",
       "      <td>Beautiful Things</td>\n",
       "      <td>2024-01-18</td>\n",
       "      <td>1</td>\n",
       "      <td>https://open.spotify.com/album/29aSKB1qPEbN0Qf...</td>\n",
       "    </tr>\n",
       "    <tr>\n",
       "      <th>2</th>\n",
       "      <td>2xOyC51tKqTQtVE0wHl2RF</td>\n",
       "      <td>Wake up happy 2023 | Good Morning</td>\n",
       "      <td>2023-08-21</td>\n",
       "      <td>60</td>\n",
       "      <td>https://open.spotify.com/album/2xOyC51tKqTQtVE...</td>\n",
       "    </tr>\n",
       "    <tr>\n",
       "      <th>3</th>\n",
       "      <td>3vLaOYCNCzngDf8QdBg2V1</td>\n",
       "      <td>Uptown Special</td>\n",
       "      <td>2015-01-12</td>\n",
       "      <td>11</td>\n",
       "      <td>https://open.spotify.com/album/3vLaOYCNCzngDf8...</td>\n",
       "    </tr>\n",
       "    <tr>\n",
       "      <th>4</th>\n",
       "      <td>5quMTd5zeI9yW5UDua8wS4</td>\n",
       "      <td>Espresso</td>\n",
       "      <td>2024-04-12</td>\n",
       "      <td>1</td>\n",
       "      <td>https://open.spotify.com/album/5quMTd5zeI9yW5U...</td>\n",
       "    </tr>\n",
       "  </tbody>\n",
       "</table>\n",
       "</div>"
      ],
      "text/plain": [
       "                 album_id                               name release_date  \\\n",
       "0  10FLjwfpbxLmW8c25Xyc2N                   Die With A Smile   2024-08-16   \n",
       "1  29aSKB1qPEbN0Qf9OPSQpw                   Beautiful Things   2024-01-18   \n",
       "2  2xOyC51tKqTQtVE0wHl2RF  Wake up happy 2023 | Good Morning   2023-08-21   \n",
       "3  3vLaOYCNCzngDf8QdBg2V1                     Uptown Special   2015-01-12   \n",
       "4  5quMTd5zeI9yW5UDua8wS4                           Espresso   2024-04-12   \n",
       "\n",
       "   total_tracks                                                url  \n",
       "0             1  https://open.spotify.com/album/10FLjwfpbxLmW8c...  \n",
       "1             1  https://open.spotify.com/album/29aSKB1qPEbN0Qf...  \n",
       "2            60  https://open.spotify.com/album/2xOyC51tKqTQtVE...  \n",
       "3            11  https://open.spotify.com/album/3vLaOYCNCzngDf8...  \n",
       "4             1  https://open.spotify.com/album/5quMTd5zeI9yW5U...  "
      ]
     },
     "execution_count": 53,
     "metadata": {},
     "output_type": "execute_result"
    }
   ],
   "source": [
    "album_df.head()"
   ]
  },
  {
   "cell_type": "code",
   "execution_count": 55,
   "id": "76388380-97d0-4fd4-bb1c-42efc31ff675",
   "metadata": {},
   "outputs": [
    {
     "name": "stdout",
     "output_type": "stream",
     "text": [
      "<class 'pandas.core.frame.DataFrame'>\n",
      "RangeIndex: 100 entries, 0 to 99\n",
      "Data columns (total 5 columns):\n",
      " #   Column        Non-Null Count  Dtype \n",
      "---  ------        --------------  ----- \n",
      " 0   album_id      100 non-null    object\n",
      " 1   name          100 non-null    object\n",
      " 2   release_date  100 non-null    object\n",
      " 3   total_tracks  100 non-null    int64 \n",
      " 4   url           100 non-null    object\n",
      "dtypes: int64(1), object(4)\n",
      "memory usage: 4.0+ KB\n"
     ]
    }
   ],
   "source": [
    "album_df.info()"
   ]
  },
  {
   "cell_type": "code",
   "execution_count": 56,
   "id": "2ef51b3a-f468-4c84-ab17-e4f4a5ae4723",
   "metadata": {},
   "outputs": [],
   "source": [
    "album_df = album_df.drop_duplicates(subset=['album_id'])"
   ]
  },
  {
   "cell_type": "code",
   "execution_count": 57,
   "id": "30c3b26b-6ba9-411d-8d74-bc4c7d87b0bc",
   "metadata": {},
   "outputs": [],
   "source": [
    "artist_df = pd.DataFrame.from_dict(artist_list)"
   ]
  },
  {
   "cell_type": "code",
   "execution_count": 58,
   "id": "0b8cca79-ae1b-463a-ae93-c178bdd32f3d",
   "metadata": {},
   "outputs": [],
   "source": [
    "artist_df = artist_df.drop_duplicates(subset=['artist_id'])"
   ]
  },
  {
   "cell_type": "code",
   "execution_count": 62,
   "id": "a1814018-109b-420b-bbf5-11b88357e86f",
   "metadata": {},
   "outputs": [
    {
     "data": {
      "text/html": [
       "<div>\n",
       "<style scoped>\n",
       "    .dataframe tbody tr th:only-of-type {\n",
       "        vertical-align: middle;\n",
       "    }\n",
       "\n",
       "    .dataframe tbody tr th {\n",
       "        vertical-align: top;\n",
       "    }\n",
       "\n",
       "    .dataframe thead th {\n",
       "        text-align: right;\n",
       "    }\n",
       "</style>\n",
       "<table border=\"1\" class=\"dataframe\">\n",
       "  <thead>\n",
       "    <tr style=\"text-align: right;\">\n",
       "      <th></th>\n",
       "      <th>artist_id</th>\n",
       "      <th>artist_name</th>\n",
       "      <th>external_url</th>\n",
       "    </tr>\n",
       "  </thead>\n",
       "  <tbody>\n",
       "    <tr>\n",
       "      <th>0</th>\n",
       "      <td>1HY2Jd0NmPuamShAr6KMms</td>\n",
       "      <td>Lady Gaga</td>\n",
       "      <td>https://api.spotify.com/v1/artists/1HY2Jd0NmPu...</td>\n",
       "    </tr>\n",
       "    <tr>\n",
       "      <th>1</th>\n",
       "      <td>0du5cEVh5yTK9QJze8zA0C</td>\n",
       "      <td>Bruno Mars</td>\n",
       "      <td>https://api.spotify.com/v1/artists/0du5cEVh5yT...</td>\n",
       "    </tr>\n",
       "    <tr>\n",
       "      <th>2</th>\n",
       "      <td>22wbnEMDvgVIAGdFeek6ET</td>\n",
       "      <td>Benson Boone</td>\n",
       "      <td>https://api.spotify.com/v1/artists/22wbnEMDvgV...</td>\n",
       "    </tr>\n",
       "    <tr>\n",
       "      <th>3</th>\n",
       "      <td>1Xyo4u8uXC1ZmMpatF05PJ</td>\n",
       "      <td>The Weeknd</td>\n",
       "      <td>https://api.spotify.com/v1/artists/1Xyo4u8uXC1...</td>\n",
       "    </tr>\n",
       "    <tr>\n",
       "      <th>4</th>\n",
       "      <td>3hv9jJF3adDNsBSIQDqcjp</td>\n",
       "      <td>Mark Ronson</td>\n",
       "      <td>https://api.spotify.com/v1/artists/3hv9jJF3adD...</td>\n",
       "    </tr>\n",
       "  </tbody>\n",
       "</table>\n",
       "</div>"
      ],
      "text/plain": [
       "                artist_id   artist_name  \\\n",
       "0  1HY2Jd0NmPuamShAr6KMms     Lady Gaga   \n",
       "1  0du5cEVh5yTK9QJze8zA0C    Bruno Mars   \n",
       "2  22wbnEMDvgVIAGdFeek6ET  Benson Boone   \n",
       "3  1Xyo4u8uXC1ZmMpatF05PJ    The Weeknd   \n",
       "4  3hv9jJF3adDNsBSIQDqcjp   Mark Ronson   \n",
       "\n",
       "                                        external_url  \n",
       "0  https://api.spotify.com/v1/artists/1HY2Jd0NmPu...  \n",
       "1  https://api.spotify.com/v1/artists/0du5cEVh5yT...  \n",
       "2  https://api.spotify.com/v1/artists/22wbnEMDvgV...  \n",
       "3  https://api.spotify.com/v1/artists/1Xyo4u8uXC1...  \n",
       "4  https://api.spotify.com/v1/artists/3hv9jJF3adD...  "
      ]
     },
     "execution_count": 62,
     "metadata": {},
     "output_type": "execute_result"
    }
   ],
   "source": [
    "artist_df.head()"
   ]
  },
  {
   "cell_type": "code",
   "execution_count": 71,
   "id": "989a0df3-bcb9-4865-b0ed-211c6d9ac313",
   "metadata": {},
   "outputs": [],
   "source": [
    "song_df = pd.DataFrame.from_dict(song_list)"
   ]
  },
  {
   "cell_type": "code",
   "execution_count": 72,
   "id": "d5d6efbc-c4df-40a0-80e7-9de2c91227b4",
   "metadata": {},
   "outputs": [
    {
     "data": {
      "text/html": [
       "<div>\n",
       "<style scoped>\n",
       "    .dataframe tbody tr th:only-of-type {\n",
       "        vertical-align: middle;\n",
       "    }\n",
       "\n",
       "    .dataframe tbody tr th {\n",
       "        vertical-align: top;\n",
       "    }\n",
       "\n",
       "    .dataframe thead th {\n",
       "        text-align: right;\n",
       "    }\n",
       "</style>\n",
       "<table border=\"1\" class=\"dataframe\">\n",
       "  <thead>\n",
       "    <tr style=\"text-align: right;\">\n",
       "      <th></th>\n",
       "      <th>song_id</th>\n",
       "      <th>song_name</th>\n",
       "      <th>duration_ms</th>\n",
       "      <th>url</th>\n",
       "      <th>popularity</th>\n",
       "      <th>song_added</th>\n",
       "      <th>album_id</th>\n",
       "      <th>artist_id</th>\n",
       "    </tr>\n",
       "  </thead>\n",
       "  <tbody>\n",
       "    <tr>\n",
       "      <th>0</th>\n",
       "      <td>2plbrEY59IikOBgBGLjaoe</td>\n",
       "      <td>Die With A Smile</td>\n",
       "      <td>251667</td>\n",
       "      <td>https://open.spotify.com/track/2plbrEY59IikOBg...</td>\n",
       "      <td>99</td>\n",
       "      <td>2024-12-04T21:42:34Z</td>\n",
       "      <td>10FLjwfpbxLmW8c25Xyc2N</td>\n",
       "      <td>1HY2Jd0NmPuamShAr6KMms</td>\n",
       "    </tr>\n",
       "    <tr>\n",
       "      <th>1</th>\n",
       "      <td>6tNQ70jh4OwmPGpYy6R2o9</td>\n",
       "      <td>Beautiful Things</td>\n",
       "      <td>180304</td>\n",
       "      <td>https://open.spotify.com/track/6tNQ70jh4OwmPGp...</td>\n",
       "      <td>84</td>\n",
       "      <td>2024-06-26T22:45:55Z</td>\n",
       "      <td>29aSKB1qPEbN0Qf9OPSQpw</td>\n",
       "      <td>22wbnEMDvgVIAGdFeek6ET</td>\n",
       "    </tr>\n",
       "    <tr>\n",
       "      <th>2</th>\n",
       "      <td>4FuHOf2QIQ8zvhEINUZ94d</td>\n",
       "      <td>Save Your Tears</td>\n",
       "      <td>215627</td>\n",
       "      <td>https://open.spotify.com/track/4FuHOf2QIQ8zvhE...</td>\n",
       "      <td>9</td>\n",
       "      <td>2024-06-26T22:45:55Z</td>\n",
       "      <td>2xOyC51tKqTQtVE0wHl2RF</td>\n",
       "      <td>0LyfQWJT6nXafLPZqxe9Of</td>\n",
       "    </tr>\n",
       "    <tr>\n",
       "      <th>3</th>\n",
       "      <td>32OlwWuMpZ6b0aN2RZOeMS</td>\n",
       "      <td>Uptown Funk (feat. Bruno Mars)</td>\n",
       "      <td>269666</td>\n",
       "      <td>https://open.spotify.com/track/32OlwWuMpZ6b0aN...</td>\n",
       "      <td>84</td>\n",
       "      <td>2019-08-29T08:48:06Z</td>\n",
       "      <td>3vLaOYCNCzngDf8QdBg2V1</td>\n",
       "      <td>3hv9jJF3adDNsBSIQDqcjp</td>\n",
       "    </tr>\n",
       "    <tr>\n",
       "      <th>4</th>\n",
       "      <td>2qSkIjg1o9h3YT9RAgYN75</td>\n",
       "      <td>Espresso</td>\n",
       "      <td>175459</td>\n",
       "      <td>https://open.spotify.com/track/2qSkIjg1o9h3YT9...</td>\n",
       "      <td>87</td>\n",
       "      <td>2024-09-24T20:15:01Z</td>\n",
       "      <td>5quMTd5zeI9yW5UDua8wS4</td>\n",
       "      <td>74KM79TiuVKeVCqs8QtB0B</td>\n",
       "    </tr>\n",
       "  </tbody>\n",
       "</table>\n",
       "</div>"
      ],
      "text/plain": [
       "                  song_id                       song_name  duration_ms  \\\n",
       "0  2plbrEY59IikOBgBGLjaoe                Die With A Smile       251667   \n",
       "1  6tNQ70jh4OwmPGpYy6R2o9                Beautiful Things       180304   \n",
       "2  4FuHOf2QIQ8zvhEINUZ94d                 Save Your Tears       215627   \n",
       "3  32OlwWuMpZ6b0aN2RZOeMS  Uptown Funk (feat. Bruno Mars)       269666   \n",
       "4  2qSkIjg1o9h3YT9RAgYN75                        Espresso       175459   \n",
       "\n",
       "                                                 url  popularity  \\\n",
       "0  https://open.spotify.com/track/2plbrEY59IikOBg...          99   \n",
       "1  https://open.spotify.com/track/6tNQ70jh4OwmPGp...          84   \n",
       "2  https://open.spotify.com/track/4FuHOf2QIQ8zvhE...           9   \n",
       "3  https://open.spotify.com/track/32OlwWuMpZ6b0aN...          84   \n",
       "4  https://open.spotify.com/track/2qSkIjg1o9h3YT9...          87   \n",
       "\n",
       "             song_added                album_id               artist_id  \n",
       "0  2024-12-04T21:42:34Z  10FLjwfpbxLmW8c25Xyc2N  1HY2Jd0NmPuamShAr6KMms  \n",
       "1  2024-06-26T22:45:55Z  29aSKB1qPEbN0Qf9OPSQpw  22wbnEMDvgVIAGdFeek6ET  \n",
       "2  2024-06-26T22:45:55Z  2xOyC51tKqTQtVE0wHl2RF  0LyfQWJT6nXafLPZqxe9Of  \n",
       "3  2019-08-29T08:48:06Z  3vLaOYCNCzngDf8QdBg2V1  3hv9jJF3adDNsBSIQDqcjp  \n",
       "4  2024-09-24T20:15:01Z  5quMTd5zeI9yW5UDua8wS4  74KM79TiuVKeVCqs8QtB0B  "
      ]
     },
     "execution_count": 72,
     "metadata": {},
     "output_type": "execute_result"
    }
   ],
   "source": [
    "song_df.head()"
   ]
  },
  {
   "cell_type": "code",
   "execution_count": 67,
   "id": "67a6809b-b7b6-4ab4-b41c-b2f07eeb219a",
   "metadata": {},
   "outputs": [],
   "source": [
    "album_df.loc[:, 'release_date'] = pd.to_datetime(album_df['release_date'], errors='coerce')"
   ]
  },
  {
   "cell_type": "code",
   "execution_count": 68,
   "id": "5ba04445-d245-4092-ac4b-d06dfca9725e",
   "metadata": {},
   "outputs": [
    {
     "name": "stdout",
     "output_type": "stream",
     "text": [
      "<class 'pandas.core.frame.DataFrame'>\n",
      "Index: 96 entries, 0 to 99\n",
      "Data columns (total 5 columns):\n",
      " #   Column        Non-Null Count  Dtype         \n",
      "---  ------        --------------  -----         \n",
      " 0   album_id      96 non-null     object        \n",
      " 1   name          96 non-null     object        \n",
      " 2   release_date  94 non-null     datetime64[ns]\n",
      " 3   total_tracks  96 non-null     int64         \n",
      " 4   url           96 non-null     object        \n",
      "dtypes: datetime64[ns](1), int64(1), object(3)\n",
      "memory usage: 4.5+ KB\n"
     ]
    }
   ],
   "source": [
    "album_df.info()"
   ]
  },
  {
   "cell_type": "code",
   "execution_count": 79,
   "id": "4c30f08c-ccdc-4834-b236-962be27ba2cb",
   "metadata": {},
   "outputs": [],
   "source": [
    "song_df['song_added'] = pd.to_datetime(song_df['song_added'])"
   ]
  },
  {
   "cell_type": "code",
   "execution_count": 80,
   "id": "5d954e4a-c887-4bed-926e-4970e9bf5df7",
   "metadata": {},
   "outputs": [
    {
     "name": "stdout",
     "output_type": "stream",
     "text": [
      "<class 'pandas.core.frame.DataFrame'>\n",
      "RangeIndex: 100 entries, 0 to 99\n",
      "Data columns (total 8 columns):\n",
      " #   Column       Non-Null Count  Dtype              \n",
      "---  ------       --------------  -----              \n",
      " 0   song_id      100 non-null    object             \n",
      " 1   song_name    100 non-null    object             \n",
      " 2   duration_ms  100 non-null    int64              \n",
      " 3   url          100 non-null    object             \n",
      " 4   popularity   100 non-null    int64              \n",
      " 5   song_added   100 non-null    datetime64[ns, UTC]\n",
      " 6   album_id     100 non-null    object             \n",
      " 7   artist_id    100 non-null    object             \n",
      "dtypes: datetime64[ns, UTC](1), int64(2), object(5)\n",
      "memory usage: 6.4+ KB\n"
     ]
    }
   ],
   "source": [
    "song_df.info()\n"
   ]
  },
  {
   "cell_type": "code",
   "execution_count": null,
   "id": "fc198ee6-08c2-41ae-a62a-981bebd49f2a",
   "metadata": {},
   "outputs": [],
   "source": []
  }
 ],
 "metadata": {
  "kernelspec": {
   "display_name": "Python 3 (ipykernel)",
   "language": "python",
   "name": "python3"
  },
  "language_info": {
   "codemirror_mode": {
    "name": "ipython",
    "version": 3
   },
   "file_extension": ".py",
   "mimetype": "text/x-python",
   "name": "python",
   "nbconvert_exporter": "python",
   "pygments_lexer": "ipython3",
   "version": "3.13.2"
  }
 },
 "nbformat": 4,
 "nbformat_minor": 5
}
